{
 "cells": [
  {
   "cell_type": "markdown",
   "metadata": {},
   "source": [
    "## Assigning Anchorage Points to Anchorage Groups\n",
    "This notebook describes how anchorage groups were created by applying the rule that any two anchorage points within 4 kilometers of one another consistute the same anchorage group. In some regions this will closely replicate **ports**"
   ]
  },
  {
   "cell_type": "code",
   "execution_count": null,
   "metadata": {},
   "outputs": [],
   "source": [
    "import pandas as pd\n",
    "from collections import defaultdict"
   ]
  },
  {
   "cell_type": "markdown",
   "metadata": {},
   "source": [
    "### Identify pairs of neighboring anchorage points"
   ]
  },
  {
   "cell_type": "markdown",
   "metadata": {},
   "source": [
    "Using the public Big Query table run this query to get all pairings of anchorages that are within 4km of one another which returns a table with ~2 million rows. This query can be run within BQ and the resulting table exported or can be run directly from python.\n",
    "  \n",
    "There are ~100k anchorages, with ~4k that are not within 4km of any others. Singlet anchorages are removed in this processes, but will be reincluded in the final dataset\n",
    "\n",
    "```\n",
    "SELECT\n",
    "  if(a.s2id > b.s2id, b.s2id, a.s2id ) s2id_1,\n",
    "  if(a.s2id > b.s2id, a.s2id, b.s2id ) s2id_2,\n",
    "FROM\n",
    "  [world-fishing-827:gfw_raw.named_anchorages_20171106] a\n",
    "CROSS JOIN\n",
    "  [world-fishing-827:gfw_raw.named_anchorages_20171106] b\n",
    "WHERE\n",
    "  ACOS(COS(RADIANS(90-b.lat)) *COS(RADIANS(90-a.lat)) \n",
    "       +SIN(RADIANS(90-b.lat))*SIN(RADIANS(90-a.lat)) * COS(RADIANS(b.lon-a.lon)))*6371 < 4\n",
    "  and a.s2id != b.s2id\n",
    "  group by s2id_1, s2id_2\n",
    "```"
   ]
  },
  {
   "cell_type": "markdown",
   "metadata": {},
   "source": [
    "If the above query was not run from within a python environment, export the resulting table and import into Python."
   ]
  },
  {
   "cell_type": "markdown",
   "metadata": {},
   "source": [
    "### Combine overlapping pairs"
   ]
  },
  {
   "cell_type": "markdown",
   "metadata": {},
   "source": [
    "Use UnionFind structure to efficiently identify overlapping pairs"
   ]
  },
  {
   "cell_type": "code",
   "execution_count": null,
   "metadata": {},
   "outputs": [],
   "source": [
    "\"\"\"UnionFind.py\n",
    "\n",
    "Union-find data structure. Based on Josiah Carlson's code,\n",
    "http://aspn.activestate.com/ASPN/Cookbook/Python/Recipe/215912\n",
    "with significant additional changes by D. Eppstein.\n",
    "\"\"\"\n",
    "\n",
    "class UnionFind(object):\n",
    "    \"\"\"Union-find data structure.\n",
    "\n",
    "    Each unionFind instance X maintains a family of disjoint sets of\n",
    "    hashable objects, supporting the following two methods:\n",
    "\n",
    "    - X[item] returns a name for the set containing the given item.\n",
    "      Each set is named by an arbitrarily-chosen one of its members; as\n",
    "      long as the set remains unchanged it will keep the same name. If\n",
    "      the item is not yet part of a set in X, a new singleton set is\n",
    "      created for it.\n",
    "\n",
    "    - X.union(item1, item2, ...) merges the sets containing each item\n",
    "      into a single larger set.  If any item is not yet part of a set\n",
    "      in X, it is added to X as one of the members of the merged set.\n",
    "    \"\"\"\n",
    "\n",
    "    def __init__(self):\n",
    "        \"\"\"Create a new empty union-find structure.\"\"\"\n",
    "        self.weights = {}\n",
    "        self.parents = {}\n",
    "\n",
    "    def __getitem__(self, object):\n",
    "        \"\"\"Find and return the name of the set containing the object.\"\"\"\n",
    "\n",
    "        # check for previously unknown object\n",
    "        if object not in self.parents:\n",
    "            self.parents[object] = object\n",
    "            self.weights[object] = 1\n",
    "            return object\n",
    "\n",
    "        # find path of objects leading to the root\n",
    "        path = [object]\n",
    "        root = self.parents[object]\n",
    "        while root != path[-1]:\n",
    "            path.append(root)\n",
    "            root = self.parents[root]\n",
    "\n",
    "        # compress the path and return\n",
    "        for ancestor in path:\n",
    "            self.parents[ancestor] = root\n",
    "        return root\n",
    "        \n",
    "    def __iter__(self):\n",
    "        \"\"\"Iterate through all items ever found or unioned by this structure.\"\"\"\n",
    "        return iter(self.parents)\n",
    "\n",
    "    def union(self, *objects):\n",
    "        \"\"\"Find the sets containing the objects and merge them all.\"\"\"\n",
    "        roots = [self[x] for x in objects]\n",
    "        heaviest = max([(self.weights[r],r) for r in roots])[1]\n",
    "        for r in roots:\n",
    "            if r != heaviest:\n",
    "                self.weights[heaviest] += self.weights[r]\n",
    "                self.parents[r] = heaviest"
   ]
  },
  {
   "cell_type": "code",
   "execution_count": null,
   "metadata": {},
   "outputs": [],
   "source": [
    "def simplify_list(items):\n",
    "    '''\n",
    "    This function takes a list of lists and group items that overlap\n",
    "    so, simplify_list([[1,2,5],[5],[8]]) returns [[1,2,5],[8]]\n",
    "    '''\n",
    "    ufind = UnionFind()\n",
    "    for x in items:\n",
    "        ufind.union(*x)\n",
    "    sets_by_name = defaultdict(set)\n",
    "    for x in ufind:\n",
    "        sets_by_name[ufind[x]].add(x)\n",
    "    return sorted([sorted(x) for x in sets_by_name.values()])\n"
   ]
  },
  {
   "cell_type": "code",
   "execution_count": null,
   "metadata": {},
   "outputs": [],
   "source": [
    "rows = []\n",
    "for index, row in df.iterrows():\n",
    "    rows.append([row.s2id_1, row.s2id_2])"
   ]
  },
  {
   "cell_type": "markdown",
   "metadata": {},
   "source": [
    "#### Apply the UnionFind to the anchorage point pairs"
   ]
  },
  {
   "cell_type": "code",
   "execution_count": null,
   "metadata": {},
   "outputs": [],
   "source": [
    "anchorage_groups = simplify_list(rows)"
   ]
  },
  {
   "cell_type": "markdown",
   "metadata": {},
   "source": [
    "### Generate full dataset and include the singlet anchorage points"
   ]
  },
  {
   "cell_type": "markdown",
   "metadata": {},
   "source": [
    "Upload the resulting `anchorage_groups` file to Biq Query either through the UI or the `bq load` command-line tool.\n",
    "Then the anchorage groups can be joined to the original dataset in the following manner."
   ]
  },
  {
   "cell_type": "markdown",
   "metadata": {},
   "source": [
    "```\n",
    "SELECT\n",
    "  a.s2id s2id,\n",
    "  label,\n",
    "  sublabel,\n",
    "  lat,\n",
    "  lon,\n",
    "  iso3\n",
    "  IF(id IS NULL, anchor_points.s2id, id) anchorage_group, -- if singlet anchorage, use s2id as group_id\n",
    "FROM\n",
    "  [world-fishing-827:gfw_raw.named_anchorages_20171116] anchor_points\n",
    "LEFT JOIN\n",
    "  [________.anchorages_grouped_4km] anchor_groups\n",
    "ON\n",
    "  anchor_points.s2id = anchor_groups.s2id\n",
    "```"
   ]
  }
 ],
 "metadata": {
  "kernelspec": {
   "display_name": "Python 2",
   "language": "python",
   "name": "python2"
  },
  "language_info": {
   "codemirror_mode": {
    "name": "ipython",
    "version": 2
   },
   "file_extension": ".py",
   "mimetype": "text/x-python",
   "name": "python",
   "nbconvert_exporter": "python",
   "pygments_lexer": "ipython2",
   "version": "2.7.13"
  }
 },
 "nbformat": 4,
 "nbformat_minor": 2
}
